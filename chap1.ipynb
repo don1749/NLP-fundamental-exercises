{
 "cells": [
  {
   "cell_type": "code",
   "execution_count": 60,
   "metadata": {},
   "outputs": [
    {
     "name": "stdout",
     "output_type": "stream",
     "text": [
      "Requirement already satisfied: Wikipedia-API in /opt/homebrew/lib/python3.11/site-packages (0.5.8)\n",
      "Requirement already satisfied: requests in /opt/homebrew/lib/python3.11/site-packages (from Wikipedia-API) (2.28.2)\n",
      "Requirement already satisfied: charset-normalizer<4,>=2 in /opt/homebrew/lib/python3.11/site-packages (from requests->Wikipedia-API) (3.1.0)\n",
      "Requirement already satisfied: idna<4,>=2.5 in /opt/homebrew/lib/python3.11/site-packages (from requests->Wikipedia-API) (3.4)\n",
      "Requirement already satisfied: urllib3<1.27,>=1.21.1 in /opt/homebrew/lib/python3.11/site-packages (from requests->Wikipedia-API) (1.26.15)\n",
      "Requirement already satisfied: certifi>=2017.4.17 in /opt/homebrew/lib/python3.11/site-packages (from requests->Wikipedia-API) (2022.12.7)\n",
      "\n",
      "\u001b[1m[\u001b[0m\u001b[34;49mnotice\u001b[0m\u001b[1;39;49m]\u001b[0m\u001b[39;49m A new release of pip available: \u001b[0m\u001b[31;49m22.3.1\u001b[0m\u001b[39;49m -> \u001b[0m\u001b[32;49m23.1\u001b[0m\n",
      "\u001b[1m[\u001b[0m\u001b[34;49mnotice\u001b[0m\u001b[1;39;49m]\u001b[0m\u001b[39;49m To update, run: \u001b[0m\u001b[32;49mpython3.11 -m pip install --upgrade pip\u001b[0m\n",
      "Note: you may need to restart the kernel to use updated packages.\n"
     ]
    }
   ],
   "source": [
    "# EX2\n",
    "%pip install Wikipedia-API"
   ]
  },
  {
   "cell_type": "code",
   "execution_count": 70,
   "metadata": {},
   "outputs": [
    {
     "ename": "DisambiguationError",
     "evalue": "\"Japanese\" may refer to: \nJapan\nJapanese language\nJapanese people\nJapanese diaspora\nJapanese nationality law\nForeign-born Japanese\nJapanese writing system\nJapanese cuisine\nList of Japanese people\nAll pages with titles beginning with Japanese \nJaponica (disambiguation)\nJaponicum\nJaponicus\nJapanese studies",
     "output_type": "error",
     "traceback": [
      "\u001b[0;31m---------------------------------------------------------------------------\u001b[0m",
      "\u001b[0;31mDisambiguationError\u001b[0m                       Traceback (most recent call last)",
      "\u001b[1;32m/Users/Don/Library/CloudStorage/OneDrive-OsakaUniversity/Oni-lab/Arase Group/NLP-fundamental-exercises/chap1.ipynb Cell 2\u001b[0m in \u001b[0;36m8\n\u001b[1;32m      <a href='vscode-notebook-cell:/Users/Don/Library/CloudStorage/OneDrive-OsakaUniversity/Oni-lab/Arase%20Group/NLP-fundamental-exercises/chap1.ipynb#W1sZmlsZQ%3D%3D?line=5'>6</a>\u001b[0m \u001b[39mfor\u001b[39;00m each_result \u001b[39min\u001b[39;00m results_list:\n\u001b[1;32m      <a href='vscode-notebook-cell:/Users/Don/Library/CloudStorage/OneDrive-OsakaUniversity/Oni-lab/Arase%20Group/NLP-fundamental-exercises/chap1.ipynb#W1sZmlsZQ%3D%3D?line=6'>7</a>\u001b[0m     wiki_page_result \u001b[39m=\u001b[39m {}\n\u001b[0;32m----> <a href='vscode-notebook-cell:/Users/Don/Library/CloudStorage/OneDrive-OsakaUniversity/Oni-lab/Arase%20Group/NLP-fundamental-exercises/chap1.ipynb#W1sZmlsZQ%3D%3D?line=7'>8</a>\u001b[0m     wiki_page_obj \u001b[39m=\u001b[39m wikipedia\u001b[39m.\u001b[39;49mpage(each_result, auto_suggest\u001b[39m=\u001b[39;49m\u001b[39mFalse\u001b[39;49;00m)\n\u001b[1;32m      <a href='vscode-notebook-cell:/Users/Don/Library/CloudStorage/OneDrive-OsakaUniversity/Oni-lab/Arase%20Group/NLP-fundamental-exercises/chap1.ipynb#W1sZmlsZQ%3D%3D?line=8'>9</a>\u001b[0m     wiki_page_result[\u001b[39m'\u001b[39m\u001b[39mtitle\u001b[39m\u001b[39m'\u001b[39m] \u001b[39m=\u001b[39m wiki_page_obj\u001b[39m.\u001b[39mtitle\n\u001b[1;32m     <a href='vscode-notebook-cell:/Users/Don/Library/CloudStorage/OneDrive-OsakaUniversity/Oni-lab/Arase%20Group/NLP-fundamental-exercises/chap1.ipynb#W1sZmlsZQ%3D%3D?line=9'>10</a>\u001b[0m     wiki_page_result[\u001b[39m'\u001b[39m\u001b[39mcontent\u001b[39m\u001b[39m'\u001b[39m] \u001b[39m=\u001b[39m wiki_page_obj\u001b[39m.\u001b[39mcontent\n",
      "File \u001b[0;32m/opt/homebrew/lib/python3.11/site-packages/wikipedia/wikipedia.py:276\u001b[0m, in \u001b[0;36mpage\u001b[0;34m(title, pageid, auto_suggest, redirect, preload)\u001b[0m\n\u001b[1;32m    273\u001b[0m     \u001b[39mexcept\u001b[39;00m \u001b[39mIndexError\u001b[39;00m:\n\u001b[1;32m    274\u001b[0m       \u001b[39m# if there is no suggestion or search results, the page doesn't exist\u001b[39;00m\n\u001b[1;32m    275\u001b[0m       \u001b[39mraise\u001b[39;00m PageError(title)\n\u001b[0;32m--> 276\u001b[0m   \u001b[39mreturn\u001b[39;00m WikipediaPage(title, redirect\u001b[39m=\u001b[39;49mredirect, preload\u001b[39m=\u001b[39;49mpreload)\n\u001b[1;32m    277\u001b[0m \u001b[39melif\u001b[39;00m pageid \u001b[39mis\u001b[39;00m \u001b[39mnot\u001b[39;00m \u001b[39mNone\u001b[39;00m:\n\u001b[1;32m    278\u001b[0m   \u001b[39mreturn\u001b[39;00m WikipediaPage(pageid\u001b[39m=\u001b[39mpageid, preload\u001b[39m=\u001b[39mpreload)\n",
      "File \u001b[0;32m/opt/homebrew/lib/python3.11/site-packages/wikipedia/wikipedia.py:299\u001b[0m, in \u001b[0;36mWikipediaPage.__init__\u001b[0;34m(self, title, pageid, redirect, preload, original_title)\u001b[0m\n\u001b[1;32m    296\u001b[0m \u001b[39melse\u001b[39;00m:\n\u001b[1;32m    297\u001b[0m   \u001b[39mraise\u001b[39;00m \u001b[39mValueError\u001b[39;00m(\u001b[39m\"\u001b[39m\u001b[39mEither a title or a pageid must be specified\u001b[39m\u001b[39m\"\u001b[39m)\n\u001b[0;32m--> 299\u001b[0m \u001b[39mself\u001b[39;49m\u001b[39m.\u001b[39;49m__load(redirect\u001b[39m=\u001b[39;49mredirect, preload\u001b[39m=\u001b[39;49mpreload)\n\u001b[1;32m    301\u001b[0m \u001b[39mif\u001b[39;00m preload:\n\u001b[1;32m    302\u001b[0m   \u001b[39mfor\u001b[39;00m prop \u001b[39min\u001b[39;00m (\u001b[39m'\u001b[39m\u001b[39mcontent\u001b[39m\u001b[39m'\u001b[39m, \u001b[39m'\u001b[39m\u001b[39msummary\u001b[39m\u001b[39m'\u001b[39m, \u001b[39m'\u001b[39m\u001b[39mimages\u001b[39m\u001b[39m'\u001b[39m, \u001b[39m'\u001b[39m\u001b[39mreferences\u001b[39m\u001b[39m'\u001b[39m, \u001b[39m'\u001b[39m\u001b[39mlinks\u001b[39m\u001b[39m'\u001b[39m, \u001b[39m'\u001b[39m\u001b[39msections\u001b[39m\u001b[39m'\u001b[39m):\n",
      "File \u001b[0;32m/opt/homebrew/lib/python3.11/site-packages/wikipedia/wikipedia.py:393\u001b[0m, in \u001b[0;36mWikipediaPage.__load\u001b[0;34m(self, redirect, preload)\u001b[0m\n\u001b[1;32m    390\u001b[0m   filtered_lis \u001b[39m=\u001b[39m [li \u001b[39mfor\u001b[39;00m li \u001b[39min\u001b[39;00m lis \u001b[39mif\u001b[39;00m \u001b[39mnot\u001b[39;00m \u001b[39m'\u001b[39m\u001b[39mtocsection\u001b[39m\u001b[39m'\u001b[39m \u001b[39min\u001b[39;00m \u001b[39m'\u001b[39m\u001b[39m'\u001b[39m\u001b[39m.\u001b[39mjoin(li\u001b[39m.\u001b[39mget(\u001b[39m'\u001b[39m\u001b[39mclass\u001b[39m\u001b[39m'\u001b[39m, []))]\n\u001b[1;32m    391\u001b[0m   may_refer_to \u001b[39m=\u001b[39m [li\u001b[39m.\u001b[39ma\u001b[39m.\u001b[39mget_text() \u001b[39mfor\u001b[39;00m li \u001b[39min\u001b[39;00m filtered_lis \u001b[39mif\u001b[39;00m li\u001b[39m.\u001b[39ma]\n\u001b[0;32m--> 393\u001b[0m   \u001b[39mraise\u001b[39;00m DisambiguationError(\u001b[39mgetattr\u001b[39m(\u001b[39mself\u001b[39m, \u001b[39m'\u001b[39m\u001b[39mtitle\u001b[39m\u001b[39m'\u001b[39m, page[\u001b[39m'\u001b[39m\u001b[39mtitle\u001b[39m\u001b[39m'\u001b[39m]), may_refer_to)\n\u001b[1;32m    395\u001b[0m \u001b[39melse\u001b[39;00m:\n\u001b[1;32m    396\u001b[0m   \u001b[39mself\u001b[39m\u001b[39m.\u001b[39mpageid \u001b[39m=\u001b[39m pageid\n",
      "\u001b[0;31mDisambiguationError\u001b[0m: \"Japanese\" may refer to: \nJapan\nJapanese language\nJapanese people\nJapanese diaspora\nJapanese nationality law\nForeign-born Japanese\nJapanese writing system\nJapanese cuisine\nList of Japanese people\nAll pages with titles beginning with Japanese \nJaponica (disambiguation)\nJaponicum\nJaponicus\nJapanese studies"
     ]
    }
   ],
   "source": [
    "import wikipedia\n",
    "\n",
    "results_list = wikipedia.search(\"Japan country\")\n",
    "\n",
    "wiki_search_results = []\n",
    "for each_result in results_list:\n",
    "    wiki_page_result = {}\n",
    "    wiki_page_obj = wikipedia.page(each_result, auto_suggest=False)\n",
    "    wiki_page_result['title'] = wiki_page_obj.title\n",
    "    wiki_page_result['content'] = wiki_page_obj.content\n",
    "    wiki_page_result['url'] = wiki_page_obj.url\n",
    "    wiki_page_result['links'] = wiki_page_obj.links\n",
    "    wiki_search_results.append(wiki_page_result)"
   ]
  },
  {
   "cell_type": "code",
   "execution_count": 64,
   "metadata": {},
   "outputs": [],
   "source": [
    "import re\n",
    "processed_contents = {}\n",
    "\n",
    "for i, result in enumerate(wiki_search_results):\n",
    "    raw = result['content']\n",
    "    raw = raw.lower()\n",
    "    words = re.findall(r'[a-z]+', raw)\n",
    "    processed_contents[result['title']] = words"
   ]
  },
  {
   "cell_type": "code",
   "execution_count": 65,
   "metadata": {},
   "outputs": [],
   "source": [
    "word_set = set()\n",
    "\n",
    "for words in processed_contents.values():\n",
    "    for word in words:\n",
    "        word_set.add(word)\n",
    "\n",
    "word_counts = {}\n",
    "\n",
    "for word in word_set:\n",
    "    for title, words in processed_contents.items():\n",
    "        if words.count(word) > 0:\n",
    "            if word in word_counts:\n",
    "                word_counts[word].update({title: words.count(word)})\n",
    "            else:\n",
    "                word_counts[word] = {title: words.count(word)}\n"
   ]
  },
  {
   "cell_type": "code",
   "execution_count": 66,
   "metadata": {},
   "outputs": [],
   "source": [
    "# EX2 TF table\n",
    "\n",
    "TF = {}\n",
    "for word, counts in word_counts.items():\n",
    "    TF[word] = TF.get(word,0) + sum(counts.values())\n",
    "\n",
    "sorted_TF = sorted(TF.items(), key=lambda x: x[1], reverse=True)\n",
    "with open('output/TF.txt', \"w\") as out:\n",
    "    out.writelines(\"\\n\".join(item[0] + \"\\t\" + str(item[1]) for item in sorted_TF))"
   ]
  },
  {
   "cell_type": "code",
   "execution_count": 67,
   "metadata": {},
   "outputs": [],
   "source": [
    "# EX3 TF-IDF table\n",
    "import math\n",
    "\n",
    "TF_IDF = {}\n",
    "for word, counts in word_counts.items():\n",
    "    TF_IDF[word] = TF[word]*math.log(len(processed_contents)/len(counts))\n",
    "\n",
    "sorted_TF_IDF = sorted(TF_IDF.items(), key=lambda x: x[1], reverse=True)\n",
    "with open('output/TF_IDF.txt', \"w\") as out:\n",
    "    out.writelines(\"\\n\".join(item[0] + \"\\t\" + str(item[1]) for item in sorted_TF_IDF))"
   ]
  }
 ],
 "metadata": {
  "kernelspec": {
   "display_name": "Python 3",
   "language": "python",
   "name": "python3"
  },
  "language_info": {
   "codemirror_mode": {
    "name": "ipython",
    "version": 3
   },
   "file_extension": ".py",
   "mimetype": "text/x-python",
   "name": "python",
   "nbconvert_exporter": "python",
   "pygments_lexer": "ipython3",
   "version": "3.11.2"
  },
  "orig_nbformat": 4
 },
 "nbformat": 4,
 "nbformat_minor": 2
}
